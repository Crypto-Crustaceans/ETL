{
 "cells": [
  {
   "cell_type": "code",
   "execution_count": 63,
   "metadata": {},
   "outputs": [],
   "source": [
    "import pandas as pd\n",
    "import requests\n",
    "from splinter import Browser\n",
    "from bs4 import BeautifulSoup as bs\n",
    "from webdriver_manager.chrome import ChromeDriverManager\n",
    "import time"
   ]
  },
  {
   "cell_type": "code",
   "execution_count": 107,
   "metadata": {
    "scrolled": true
   },
   "outputs": [
    {
     "name": "stderr",
     "output_type": "stream",
     "text": [
      "\n",
      "\n",
      "====== WebDriver manager ======\n",
      "Current google-chrome version is 91.0.4472\n",
      "Get LATEST driver version for 91.0.4472\n",
      "Driver [C:\\Users\\T\\.wdm\\drivers\\chromedriver\\win32\\91.0.4472.101\\chromedriver.exe] found in cache\n"
     ]
    }
   ],
   "source": [
    "# set up splinter\n",
    "executable_path = {'executable_path': ChromeDriverManager().install()}\n",
    "browser = Browser('chrome', **executable_path, headless=False)"
   ]
  },
  {
   "cell_type": "code",
   "execution_count": 108,
   "metadata": {},
   "outputs": [],
   "source": [
    "# visit web page\n",
    "page_url = \"https://www.federalreserve.gov/newsevents/pressreleases.htm\"\n",
    "browser.visit(page_url)\n",
    "time.sleep(10)\n",
    "\n",
    "# create html object and scrape into soup\n",
    "html = browser.html\n",
    "soup = bs(html, \"html.parser\")\n",
    "\n",
    "press_releases = soup.find_all(\"div\", \"col-xs-9 col-md-10 eventlist__event\")\n",
    "\n",
    "press_release_list = []\n",
    "\n",
    "for release in press_releases:\n",
    "    \n",
    "    release_url = 'https://www.federalreserve.gov' + release.a['href']\n",
    "    title = release.text.strip()\n",
    "    category = release.b.text.strip()\n",
    "    \n",
    "    release_dict = {\"url\": release_url,\n",
    "                    \"title\": title,\n",
    "                    \"category\": category\n",
    "                   }\n",
    "    \n",
    "    press_release_list.append(release_dict)\n"
   ]
  },
  {
   "cell_type": "code",
   "execution_count": 113,
   "metadata": {},
   "outputs": [],
   "source": [
    "press_release_details = []\n",
    "\n",
    "for i in range(len(press_release_list)):\n",
    "    link = press_release_list[i][\"url\"]\n",
    "    \n",
    "    # visit web page\n",
    "    browser.visit(link)\n",
    "    time.sleep(5)\n",
    "\n",
    "    # create html object and scrape into soup\n",
    "    html = browser.html\n",
    "    soup = bs(html, \"html.parser\")\n",
    "    \n",
    "    release_date = soup.find(\"div\", class_=\"heading col-xs-12 col-sm-8 col-md-8\").find(\"p\", class_=\"article__time\").text.strip()\n",
    "    release_time = soup.find(\"div\", class_=\"heading col-xs-12 col-sm-8 col-md-8\").find(\"p\", class_=\"releaseTime\").text.strip()\n",
    "    \n",
    "    details_dict = {\"url\": link,\n",
    "                    \"data\": release_date,\n",
    "                    \"time\": release_time\n",
    "                   }\n",
    "    \n",
    "    press_release_details.append(details_dict)\n"
   ]
  },
  {
   "cell_type": "code",
   "execution_count": 115,
   "metadata": {},
   "outputs": [
    {
     "data": {
      "text/plain": [
       "[]"
      ]
     },
     "execution_count": 115,
     "metadata": {},
     "output_type": "execute_result"
    }
   ],
   "source": [
    "press_release_details"
   ]
  }
 ],
 "metadata": {
  "kernelspec": {
   "display_name": "Python 3",
   "language": "python",
   "name": "python3"
  },
  "language_info": {
   "codemirror_mode": {
    "name": "ipython",
    "version": 3
   },
   "file_extension": ".py",
   "mimetype": "text/x-python",
   "name": "python",
   "nbconvert_exporter": "python",
   "pygments_lexer": "ipython3",
   "version": "3.8.5"
  }
 },
 "nbformat": 4,
 "nbformat_minor": 4
}
