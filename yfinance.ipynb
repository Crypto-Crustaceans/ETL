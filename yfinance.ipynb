{
 "cells": [
  {
   "cell_type": "code",
   "execution_count": 2,
   "metadata": {},
   "outputs": [
    {
     "name": "stdout",
     "output_type": "stream",
     "text": [
      "Collecting yfinance\n",
      "  Downloading yfinance-0.1.59.tar.gz (25 kB)\n",
      "Requirement already satisfied: pandas>=0.24 in /Users/sathonphowborom/opt/anaconda3/lib/python3.8/site-packages (from yfinance) (1.1.3)\n",
      "Requirement already satisfied: numpy>=1.15 in /Users/sathonphowborom/opt/anaconda3/lib/python3.8/site-packages (from yfinance) (1.19.2)\n",
      "Requirement already satisfied: requests>=2.20 in /Users/sathonphowborom/opt/anaconda3/lib/python3.8/site-packages (from yfinance) (2.24.0)\n",
      "Collecting multitasking>=0.0.7\n",
      "  Downloading multitasking-0.0.9.tar.gz (8.1 kB)\n",
      "Requirement already satisfied: lxml>=4.5.1 in /Users/sathonphowborom/opt/anaconda3/lib/python3.8/site-packages (from yfinance) (4.6.1)\n",
      "Requirement already satisfied: python-dateutil>=2.7.3 in /Users/sathonphowborom/opt/anaconda3/lib/python3.8/site-packages (from pandas>=0.24->yfinance) (2.8.1)\n",
      "Requirement already satisfied: pytz>=2017.2 in /Users/sathonphowborom/opt/anaconda3/lib/python3.8/site-packages (from pandas>=0.24->yfinance) (2020.1)\n",
      "Requirement already satisfied: idna<3,>=2.5 in /Users/sathonphowborom/opt/anaconda3/lib/python3.8/site-packages (from requests>=2.20->yfinance) (2.10)\n",
      "Requirement already satisfied: certifi>=2017.4.17 in /Users/sathonphowborom/opt/anaconda3/lib/python3.8/site-packages (from requests>=2.20->yfinance) (2020.6.20)\n",
      "Requirement already satisfied: chardet<4,>=3.0.2 in /Users/sathonphowborom/opt/anaconda3/lib/python3.8/site-packages (from requests>=2.20->yfinance) (3.0.4)\n",
      "Requirement already satisfied: urllib3!=1.25.0,!=1.25.1,<1.26,>=1.21.1 in /Users/sathonphowborom/opt/anaconda3/lib/python3.8/site-packages (from requests>=2.20->yfinance) (1.25.11)\n",
      "Requirement already satisfied: six>=1.5 in /Users/sathonphowborom/opt/anaconda3/lib/python3.8/site-packages (from python-dateutil>=2.7.3->pandas>=0.24->yfinance) (1.15.0)\n",
      "Building wheels for collected packages: yfinance, multitasking\n",
      "  Building wheel for yfinance (setup.py) ... \u001b[?25ldone\n",
      "\u001b[?25h  Created wheel for yfinance: filename=yfinance-0.1.59-py2.py3-none-any.whl size=23442 sha256=2f335426319e324ec00085b7a88c11f670cf15b7bed38413dae42d46aa035e6a\n",
      "  Stored in directory: /Users/sathonphowborom/Library/Caches/pip/wheels/7e/d5/f4/f628965651f61ae35c2bdc73571ce1a2026e1550a336b5ad4b\n",
      "  Building wheel for multitasking (setup.py) ... \u001b[?25ldone\n",
      "\u001b[?25h  Created wheel for multitasking: filename=multitasking-0.0.9-py3-none-any.whl size=8367 sha256=ebb1dd0c5eaa88e74a0fb09102b9a0d6a66d4b928abbd382e349e8486a1daba2\n",
      "  Stored in directory: /Users/sathonphowborom/Library/Caches/pip/wheels/57/6d/a3/a39b839cc75274d2acfb1c58bfead2f726c6577fe8c4723f13\n",
      "Successfully built yfinance multitasking\n",
      "Installing collected packages: multitasking, yfinance\n",
      "Successfully installed multitasking-0.0.9 yfinance-0.1.59\n",
      "Note: you may need to restart the kernel to use updated packages.\n"
     ]
    }
   ],
   "source": [
    "pip install yfinance"
   ]
  },
  {
   "cell_type": "code",
   "execution_count": 3,
   "metadata": {},
   "outputs": [],
   "source": [
    "import yfinance as yf\n",
    "import matplotlib.pyplot as plt\n",
    "import pandas as pd\n",
    "import numpy as np"
   ]
  },
  {
   "cell_type": "code",
   "execution_count": 4,
   "metadata": {},
   "outputs": [],
   "source": [
    "def get_ticker_data(ticker, start, end, interval):\n",
    "    # download data using yfinance libary\n",
    "    df = yf.download(tickers=ticker,start=start,end=end,interval=interval)\n",
    "    # add in column showing price % change from start date\n",
    "    df['Percent_Change_From_Startdate'] = [(df['Close'][i] - df['Open'].iloc[0]) / df['Open'].iloc[0] * 100 for i in range(len(df['Open']))]\n",
    "    df['Change_Close_Less_Open'] = [df['Close'][i] - df['Open'][i] for i in range(len(df['Open']))]\n",
    "    return df"
   ]
  },
  {
   "cell_type": "code",
   "execution_count": 5,
   "metadata": {},
   "outputs": [
    {
     "name": "stdout",
     "output_type": "stream",
     "text": [
      "[*********************100%***********************]  1 of 1 completed\n"
     ]
    },
    {
     "data": {
      "text/html": [
       "<div>\n",
       "<style scoped>\n",
       "    .dataframe tbody tr th:only-of-type {\n",
       "        vertical-align: middle;\n",
       "    }\n",
       "\n",
       "    .dataframe tbody tr th {\n",
       "        vertical-align: top;\n",
       "    }\n",
       "\n",
       "    .dataframe thead th {\n",
       "        text-align: right;\n",
       "    }\n",
       "</style>\n",
       "<table border=\"1\" class=\"dataframe\">\n",
       "  <thead>\n",
       "    <tr style=\"text-align: right;\">\n",
       "      <th></th>\n",
       "      <th>Open</th>\n",
       "      <th>High</th>\n",
       "      <th>Low</th>\n",
       "      <th>Close</th>\n",
       "      <th>Adj Close</th>\n",
       "      <th>Volume</th>\n",
       "      <th>Percent_Change_From_Startdate</th>\n",
       "      <th>Change_Close_Less_Open</th>\n",
       "    </tr>\n",
       "  </thead>\n",
       "  <tbody>\n",
       "    <tr>\n",
       "      <th>2021-01-04 09:30:00-05:00</th>\n",
       "      <td>375.309998</td>\n",
       "      <td>375.359985</td>\n",
       "      <td>372.140015</td>\n",
       "      <td>372.489990</td>\n",
       "      <td>372.489990</td>\n",
       "      <td>11903531</td>\n",
       "      <td>-0.751381</td>\n",
       "      <td>-2.820007</td>\n",
       "    </tr>\n",
       "    <tr>\n",
       "      <th>2021-01-04 10:30:00-05:00</th>\n",
       "      <td>372.480011</td>\n",
       "      <td>372.599915</td>\n",
       "      <td>367.652191</td>\n",
       "      <td>368.988098</td>\n",
       "      <td>368.988098</td>\n",
       "      <td>16400051</td>\n",
       "      <td>-1.684447</td>\n",
       "      <td>-3.491913</td>\n",
       "    </tr>\n",
       "    <tr>\n",
       "      <th>2021-01-04 11:30:00-05:00</th>\n",
       "      <td>368.988098</td>\n",
       "      <td>368.988098</td>\n",
       "      <td>364.820007</td>\n",
       "      <td>366.479889</td>\n",
       "      <td>366.479889</td>\n",
       "      <td>14835702</td>\n",
       "      <td>-2.352751</td>\n",
       "      <td>-2.508209</td>\n",
       "    </tr>\n",
       "    <tr>\n",
       "      <th>2021-01-04 12:30:00-05:00</th>\n",
       "      <td>366.463013</td>\n",
       "      <td>368.250000</td>\n",
       "      <td>365.010010</td>\n",
       "      <td>367.959991</td>\n",
       "      <td>367.959991</td>\n",
       "      <td>11030489</td>\n",
       "      <td>-1.958383</td>\n",
       "      <td>1.496979</td>\n",
       "    </tr>\n",
       "    <tr>\n",
       "      <th>2021-01-04 13:30:00-05:00</th>\n",
       "      <td>367.950012</td>\n",
       "      <td>368.640015</td>\n",
       "      <td>367.239990</td>\n",
       "      <td>367.799988</td>\n",
       "      <td>367.799988</td>\n",
       "      <td>8240738</td>\n",
       "      <td>-2.001015</td>\n",
       "      <td>-0.150024</td>\n",
       "    </tr>\n",
       "  </tbody>\n",
       "</table>\n",
       "</div>"
      ],
      "text/plain": [
       "                                 Open        High         Low       Close  \\\n",
       "2021-01-04 09:30:00-05:00  375.309998  375.359985  372.140015  372.489990   \n",
       "2021-01-04 10:30:00-05:00  372.480011  372.599915  367.652191  368.988098   \n",
       "2021-01-04 11:30:00-05:00  368.988098  368.988098  364.820007  366.479889   \n",
       "2021-01-04 12:30:00-05:00  366.463013  368.250000  365.010010  367.959991   \n",
       "2021-01-04 13:30:00-05:00  367.950012  368.640015  367.239990  367.799988   \n",
       "\n",
       "                            Adj Close    Volume  \\\n",
       "2021-01-04 09:30:00-05:00  372.489990  11903531   \n",
       "2021-01-04 10:30:00-05:00  368.988098  16400051   \n",
       "2021-01-04 11:30:00-05:00  366.479889  14835702   \n",
       "2021-01-04 12:30:00-05:00  367.959991  11030489   \n",
       "2021-01-04 13:30:00-05:00  367.799988   8240738   \n",
       "\n",
       "                           Percent_Change_From_Startdate  \\\n",
       "2021-01-04 09:30:00-05:00                      -0.751381   \n",
       "2021-01-04 10:30:00-05:00                      -1.684447   \n",
       "2021-01-04 11:30:00-05:00                      -2.352751   \n",
       "2021-01-04 12:30:00-05:00                      -1.958383   \n",
       "2021-01-04 13:30:00-05:00                      -2.001015   \n",
       "\n",
       "                           Change_Close_Less_Open  \n",
       "2021-01-04 09:30:00-05:00               -2.820007  \n",
       "2021-01-04 10:30:00-05:00               -3.491913  \n",
       "2021-01-04 11:30:00-05:00               -2.508209  \n",
       "2021-01-04 12:30:00-05:00                1.496979  \n",
       "2021-01-04 13:30:00-05:00               -0.150024  "
      ]
     },
     "execution_count": 5,
     "metadata": {},
     "output_type": "execute_result"
    }
   ],
   "source": [
    "df_SPY = get_ticker_data(ticker='SPY',start='2021-01-01',end='2021-06-28',interval='1h')\n",
    "df_SPY.head()"
   ]
  },
  {
   "cell_type": "code",
   "execution_count": null,
   "metadata": {},
   "outputs": [],
   "source": []
  }
 ],
 "metadata": {
  "kernelspec": {
   "display_name": "Python 3",
   "language": "python",
   "name": "python3"
  },
  "language_info": {
   "codemirror_mode": {
    "name": "ipython",
    "version": 3
   },
   "file_extension": ".py",
   "mimetype": "text/x-python",
   "name": "python",
   "nbconvert_exporter": "python",
   "pygments_lexer": "ipython3",
   "version": "3.8.5"
  }
 },
 "nbformat": 4,
 "nbformat_minor": 4
}
